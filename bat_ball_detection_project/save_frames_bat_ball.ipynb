{
  "nbformat": 4,
  "nbformat_minor": 0,
  "metadata": {
    "colab": {
      "name": "save_frames_bat_ball.ipynb",
      "provenance": []
    },
    "kernelspec": {
      "name": "python3",
      "display_name": "Python 3"
    },
    "language_info": {
      "name": "python"
    }
  },
  "cells": [
    {
      "cell_type": "markdown",
      "source": [
        "# Saving video frames where bat hits the ball \n",
        "### Approach\n",
        "\n",
        "The concept I am using is first to calculate the distance between the bounding boxes for bat and ball(by calculating the distance between the centroid) and when bat and ball touches to each other the code generates a red bounding box for each object \n",
        "\n",
        "And in next code for saving the frames we have to give particular condition  for which we want to save frames.i.e. when bat hits the ball"
      ],
      "metadata": {
        "id": "JY4mKirWQuOi"
      }
    },
    {
      "cell_type": "code",
      "source": [
        "!pip install centroid-tracker"
      ],
      "metadata": {
        "colab": {
          "base_uri": "https://localhost:8080/"
        },
        "id": "yutmTwAIDlPe",
        "outputId": "fa3ede16-3e1e-4fbe-fd70-29608bec649c"
      },
      "execution_count": 2,
      "outputs": [
        {
          "output_type": "stream",
          "name": "stdout",
          "text": [
            "Collecting centroid-tracker\n",
            "  Downloading centroid_tracker-0.0.9-py3-none-any.whl (2.6 kB)\n",
            "Requirement already satisfied: scipy in /usr/local/lib/python3.7/dist-packages (from centroid-tracker) (1.4.1)\n",
            "Requirement already satisfied: numpy in /usr/local/lib/python3.7/dist-packages (from centroid-tracker) (1.19.5)\n",
            "Installing collected packages: centroid-tracker\n",
            "Successfully installed centroid-tracker-0.0.9\n"
          ]
        }
      ]
    },
    {
      "cell_type": "markdown",
      "source": [
        "# Distance calculation between two objects"
      ],
      "metadata": {
        "id": "_GvNP77c9Vjb"
      }
    },
    {
      "cell_type": "code",
      "source": [
        "import cv2\n",
        "import datetime\n",
        "import imutils\n",
        "import numpy as np\n",
        "from centroidtracker import CentroidTracker\n",
        "from itertools import combinations\n",
        "import math\n",
        "\n",
        "protopath = \"MobileNetSSD_deploy.prototxt\"\n",
        "modelpath = \"MobileNetSSD_deploy.caffemodel\"\n",
        "detector = cv2.dnn.readNetFromCaffe(prototxt=protopath, caffeModel=modelpath)\n",
        "# detector.setPreferableBackend(cv2.dnn.DNN_BACKEND_INFERENCE_ENGINE)\n",
        "# detector.setPreferableTarget(cv2.dnn.DNN_TARGET_CPU)\n",
        "\n",
        "\n",
        "CLASSES = [\"bat\", \"ball\"]\n",
        "\n",
        "tracker = CentroidTracker(maxDisappeared=40, maxDistance=50)\n",
        "\n",
        "\n",
        "def non_max_suppression_fast(boxes, overlapThresh):\n",
        "    try:\n",
        "        if len(boxes) == 0:\n",
        "            return []\n",
        "\n",
        "        if boxes.dtype.kind == \"i\":\n",
        "            boxes = boxes.astype(\"float\")\n",
        "\n",
        "        pick = []\n",
        "\n",
        "        x1 = boxes[:, 0]\n",
        "        y1 = boxes[:, 1]\n",
        "        x2 = boxes[:, 2]\n",
        "        y2 = boxes[:, 3]\n",
        "\n",
        "        area = (x2 - x1 + 1) * (y2 - y1 + 1)\n",
        "        idxs = np.argsort(y2)\n",
        "\n",
        "        while len(idxs) > 0:\n",
        "            last = len(idxs) - 1\n",
        "            i = idxs[last]\n",
        "            pick.append(i)\n",
        "\n",
        "            xx1 = np.maximum(x1[i], x1[idxs[:last]])\n",
        "            yy1 = np.maximum(y1[i], y1[idxs[:last]])\n",
        "            xx2 = np.minimum(x2[i], x2[idxs[:last]])\n",
        "            yy2 = np.minimum(y2[i], y2[idxs[:last]])\n",
        "\n",
        "            w = np.maximum(0, xx2 - xx1 + 1)\n",
        "            h = np.maximum(0, yy2 - yy1 + 1)\n",
        "\n",
        "            overlap = (w * h) / area[idxs[:last]]\n",
        "\n",
        "            idxs = np.delete(idxs, np.concatenate(([last],\n",
        "                                                   np.where(overlap > overlapThresh)[0])))\n",
        "\n",
        "        return boxes[pick].astype(\"int\")\n",
        "    except Exception as e:\n",
        "        print(\"Exception occurred in non_max_suppression : {}\".format(e))\n",
        "\n",
        "\n",
        "def main():\n",
        "    cap = cv2.VideoCapture('/content/AB_deviliars_vid.mp4')\n",
        "\n",
        "    fps_start_time = datetime.datetime.now()\n",
        "    fps = 0\n",
        "    total_frames = 0\n",
        "\n",
        "    while True:\n",
        "        ret, frame = cap.read()\n",
        "        frame = imutils.resize(frame, width=600)\n",
        "        total_frames = total_frames + 1\n",
        "\n",
        "        (H, W) = frame.shape[:2]\n",
        "\n",
        "        blob = cv2.dnn.blobFromImage(frame, 0.007843, (W, H), 127.5)\n",
        "\n",
        "        detector.setInput(blob)\n",
        "        bat_ball_detections = detector.forward()\n",
        "        rects = []\n",
        "        for i in np.arange(0, bat_ball_detections.shape[2]):\n",
        "            confidence = bat_ball_detections[0, 0, i, 2]\n",
        "            if confidence > 0.5:\n",
        "                idx = int(bat_ball_detections[0, 0, i, 1])\n",
        "\n",
        "                if CLASSES[idx] != (\"bat\",\"ball\"):\n",
        "                    continue\n",
        "\n",
        "                obj_box = bat_ball_detections[0, 0, i, 3:7] * np.array([W, H, W, H])\n",
        "                (startX, startY, endX, endY) = obj_box.astype(\"int\")\n",
        "                rects.append(obj_box)\n",
        "\n",
        "        boundingboxes = np.array(rects)\n",
        "        boundingboxes = boundingboxes.astype(int)\n",
        "        rects = non_max_suppression_fast(boundingboxes, 0.3)\n",
        "        centroid_dict = dict()\n",
        "        objects = tracker.update(rects)\n",
        "        for (objectId, bbox) in objects.items():\n",
        "            x1, y1, x2, y2 = bbox\n",
        "            x1 = int(x1)\n",
        "            y1 = int(y1)\n",
        "            x2 = int(x2)\n",
        "            y2 = int(y2)\n",
        "            cX = int((x1 + x2) / 2.0)\n",
        "            cY = int((y1 + y2) / 2.0)\n",
        "\n",
        "\n",
        "            centroid_dict[objectId] = (cX, cY, x1, y1, x2, y2)\n",
        "\n",
        "            # text = \"ID: {}\".format(objectId)\n",
        "            # cv2.putText(frame, text, (x1, y1-5), cv2.FONT_HERSHEY_COMPLEX_SMALL, 1, (0, 0, 255), 1)\n",
        "\n",
        "        hit_list = []\n",
        "        for (id1, p1), (id2, p2) in combinations(centroid_dict.items(), 2):\n",
        "            dx, dy = p1[0] - p2[0], p1[1] - p2[1]\n",
        "            distance = math.sqrt(dx * dx + dy * dy)\n",
        "            if distance < 10.0:\n",
        "                if id1 not in hit_list:\n",
        "                    hit_list.append(id1)\n",
        "                if id2 not in hit_list:\n",
        "                    hit_list.append(id2)\n",
        "\n",
        "        for id, box in centroid_dict.items():\n",
        "            if id in hit_list:\n",
        "                cv2.rectangle(frame, (box[2], box[3]), (box[4], box[5]), (0, 0, 255), 2)\n",
        "            \n",
        "\n",
        "\n",
        "        fps_end_time = datetime.datetime.now()\n",
        "        time_diff = fps_end_time - fps_start_time\n",
        "        if time_diff.seconds == 0:\n",
        "            fps = 0.0\n",
        "        else:\n",
        "            fps = (total_frames / time_diff.seconds)\n",
        "\n",
        "        fps_text = \"FPS: {:.2f}\".format(fps)\n",
        "\n",
        "        cv2.putText(frame, fps_text, (5, 30), cv2.FONT_HERSHEY_COMPLEX_SMALL, 1, (0, 0, 255), 1)\n",
        "\n",
        "        cv2.imshow(\"Application\", frame)\n",
        "        key = cv2.waitKey(1)\n",
        "        if key == ord('q'):\n",
        "            break\n",
        "\n",
        "    cv2.destroyAllWindows()\n",
        "\n",
        "\n",
        "main()"
      ],
      "metadata": {
        "colab": {
          "base_uri": "https://localhost:8080/",
          "height": 391
        },
        "id": "ztsu8atN9dUT",
        "outputId": "c8d0d39a-7898-4343-ff2e-d19ce4fb3945"
      },
      "execution_count": 8,
      "outputs": [
        {
          "output_type": "error",
          "ename": "ModuleNotFoundError",
          "evalue": "ignored",
          "traceback": [
            "\u001b[0;31m---------------------------------------------------------------------------\u001b[0m",
            "\u001b[0;31mModuleNotFoundError\u001b[0m                       Traceback (most recent call last)",
            "\u001b[0;32m<ipython-input-8-ca59cd62fd46>\u001b[0m in \u001b[0;36m<module>\u001b[0;34m()\u001b[0m\n\u001b[1;32m      3\u001b[0m \u001b[0;32mimport\u001b[0m \u001b[0mimutils\u001b[0m\u001b[0;34m\u001b[0m\u001b[0;34m\u001b[0m\u001b[0m\n\u001b[1;32m      4\u001b[0m \u001b[0;32mimport\u001b[0m \u001b[0mnumpy\u001b[0m \u001b[0;32mas\u001b[0m \u001b[0mnp\u001b[0m\u001b[0;34m\u001b[0m\u001b[0;34m\u001b[0m\u001b[0m\n\u001b[0;32m----> 5\u001b[0;31m \u001b[0;32mfrom\u001b[0m \u001b[0mcentroidtracker\u001b[0m \u001b[0;32mimport\u001b[0m \u001b[0mCentroidTracker\u001b[0m\u001b[0;34m\u001b[0m\u001b[0;34m\u001b[0m\u001b[0m\n\u001b[0m\u001b[1;32m      6\u001b[0m \u001b[0;32mfrom\u001b[0m \u001b[0mitertools\u001b[0m \u001b[0;32mimport\u001b[0m \u001b[0mcombinations\u001b[0m\u001b[0;34m\u001b[0m\u001b[0;34m\u001b[0m\u001b[0m\n\u001b[1;32m      7\u001b[0m \u001b[0;32mimport\u001b[0m \u001b[0mmath\u001b[0m\u001b[0;34m\u001b[0m\u001b[0;34m\u001b[0m\u001b[0m\n",
            "\u001b[0;31mModuleNotFoundError\u001b[0m: No module named 'centroidtracker'",
            "",
            "\u001b[0;31m---------------------------------------------------------------------------\u001b[0;32m\nNOTE: If your import is failing due to a missing package, you can\nmanually install dependencies using either !pip or !apt.\n\nTo view examples of installing some common dependencies, click the\n\"Open Examples\" button below.\n\u001b[0;31m---------------------------------------------------------------------------\u001b[0m\n"
          ],
          "errorDetails": {
            "actions": [
              {
                "action": "open_url",
                "actionText": "Open Examples",
                "url": "/notebooks/snippets/importing_libraries.ipynb"
              }
            ]
          }
        }
      ]
    },
    {
      "cell_type": "markdown",
      "source": [
        "## saving frame when bat hits the ball"
      ],
      "metadata": {
        "id": "3NiGVIaJTIE0"
      }
    },
    {
      "cell_type": "code",
      "source": [
        "import os\n",
        "import numpy as np\n",
        "import cv2\n",
        "from glob import glob\n",
        "\n",
        "def create_dir(path):\n",
        "    try:\n",
        "        if not os.path.exists(path):\n",
        "            os.makedirs(path)\n",
        "    except OSError:\n",
        "        print(f\"ERROR: creating directory with name {path}\")\n",
        "\n",
        "def save_frame(video_path, save_dir, distance < 10.0):\n",
        "    name = video_path.split(\"/\")[-1].split(\".\")[0]\n",
        "    save_path = os.path.join(save_dir, name)\n",
        "    create_dir(save_path)\n",
        "\n",
        "    cap = cv2.VideoCapture(video_path)\n",
        "    idx = 0\n",
        "\n",
        "    while True:\n",
        "        ret, frame = cap.read()\n",
        "\n",
        "        if ret == False:\n",
        "            cap.release()\n",
        "            break\n",
        "\n",
        "        if idx == 0:\n",
        "            cv2.imwrite(f\"{save_path}/{idx}.png\", frame)\n",
        "        else:\n",
        "            if idx % distance == 0:\n",
        "                cv2.imwrite(f\"{save_path}/{idx}.png\", frame)\n",
        "\n",
        "        idx += 1\n",
        "\n",
        "if __name__ == \"__main__\":\n",
        "    video_paths = glob(\"videos/*\")\n",
        "    save_dir = \"save\"\n",
        "\n",
        "    for path in video_paths:\n",
        "        save_frame(path, save_dir, distance < 10.0)"
      ],
      "metadata": {
        "id": "b-X623_ATJU_"
      },
      "execution_count": null,
      "outputs": []
    }
  ]
}